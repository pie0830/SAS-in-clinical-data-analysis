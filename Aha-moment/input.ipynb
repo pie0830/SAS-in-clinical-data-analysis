##input的aha用法
data club1;
   input Idno Name $18.
      Team $ 25-30 Startwght Endwght;
   datalines;
023 David Shaw         red    189 165
049 Amelia Serrano     yellow 189 165
;
run;

